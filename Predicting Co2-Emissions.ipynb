{
 "cells": [
  {
   "cell_type": "markdown",
   "id": "7f2a340b",
   "metadata": {},
   "source": [
    "# Summary:"
   ]
  },
  {
   "cell_type": "markdown",
   "id": "3c005f6a",
   "metadata": {},
   "source": [
    "**Exploratory Data Analysis (EDA):** We started by loading the training data and performing an EDA. We looked at the distributions of the numerical variables, checked for missing values, and examined the correlations between variables.\n",
    "\n",
    "**Data Preprocessing:** We handled missing values in the numerical columns by filling them with the median value of each column. We also one-hot encoded the categorical variables to convert them into a format that could be used by machine learning models.\n",
    "\n",
    "**Feature Scaling:** We used a StandardScaler to standardize the features in the training data. Standardizing the features can often improve the performance of machine learning models, especially those that are sensitive to the scale of the input features, such as linear models and models that use distance measures.\n",
    "\n",
    "**Dimensionality Reduction:** We applied Principal Component Analysis (PCA) to reduce the dimensionality of the data. This helped to reduce the computational cost of training models and may have helped to improve model performance by reducing the risk of overfitting.\n",
    "\n",
    "**Model Training:** We trained several different models, including a Linear Regression model, a Decision Tree model, a Random Forest model, and a Gradient Boosting model. For each model, we calculated the root mean squared error (RMSE) on the validation set to assess its performance.\n",
    "\n",
    "\n",
    "**Hyperparameter Tuning:** We attempted to tune the hyperparameters of the Random Forest and Gradient Boosting models using a RandomizedSearchCV, which performs a random search over specified hyperparameter ranges. Unfortunately, the tuning process was too computationally intensive to complete for Random Forrest and Gradient Boosting.\n",
    "\n",
    "**Predicting on Test Data:** We loaded the test data and preprocessed it in the same way as the training data. We then used the trained Gradient Boosting model to make predictions on the test data. Score of 169.19 **(Rank 35/40 on Leaderboard [01.08.23])**\n",
    "\n",
    "\n"
   ]
  },
  {
   "cell_type": "markdown",
   "id": "feb19527",
   "metadata": {},
   "source": [
    "**Rethinking the Process & Building a more simple model**"
   ]
  },
  {
   "cell_type": "markdown",
   "id": "da5a8c76",
   "metadata": {},
   "source": [
    "\n",
    "\n",
    "**Data Loading and Exploration:** We started by loading the dataset and performing an initial exploration to understand the structure of the data, the types of features, and the distribution of the target variable (CO2 emissions).\n",
    "\n",
    "**Data Cleaning:** We removed columns with missing values from the dataset. This left us with a very simplified set of features ('latitude', 'longitude', 'year', and 'week_no').\n",
    "\n",
    "**Data Splitting:** We split the data into a training set and a test set using stratified sampling to ensure that the training set was representative of the overall distribution of the target variable. The training set contained 30% of the original data, while the test set contained the remaining 70%.\n",
    "\n",
    "**Model Training and Evaluation - Linear Regression:** We first trained a simple Linear Regression model on the training data and evaluated its performance using the Root Mean Squared Error (RMSE) metric. The model had an RMSE of approximately 141.11 on the training set.\n",
    "\n",
    "**Model Training and Evaluation - Random Forest:** We then trained a more complex model - a Random Forest Regressor. We also performed hyperparameter tuning using cross-validation to optimize the model's performance. The best model achieved an RMSE of approximately 6.27 on the training set, which was significantly better than the Linear Regression model.\n",
    "\n",
    "**Model Evaluation on Test Set:** We evaluated the Random Forest model on the test set, where it achieved an RMSE of approximately 18.66.\n",
    "\n",
    "**Final Predictions:** Finally, we used the trained Random Forest model to make predictions on a new set of test data. We saved these predictions in a CSV file for further use. Score of 32.01 (**RANK 1/40 on Leaderboard [01.08.23])**"
   ]
  },
  {
   "cell_type": "markdown",
   "id": "e368c6b3",
   "metadata": {},
   "source": [
    "Source: https://www.kaggle.com/competitions/playground-series-s3e20/leaderboard"
   ]
  },
  {
   "cell_type": "code",
   "execution_count": 1,
   "id": "877b2ece",
   "metadata": {},
   "outputs": [
    {
     "data": {
      "text/html": [
       "<div>\n",
       "<style scoped>\n",
       "    .dataframe tbody tr th:only-of-type {\n",
       "        vertical-align: middle;\n",
       "    }\n",
       "\n",
       "    .dataframe tbody tr th {\n",
       "        vertical-align: top;\n",
       "    }\n",
       "\n",
       "    .dataframe thead th {\n",
       "        text-align: right;\n",
       "    }\n",
       "</style>\n",
       "<table border=\"1\" class=\"dataframe\">\n",
       "  <thead>\n",
       "    <tr style=\"text-align: right;\">\n",
       "      <th></th>\n",
       "      <th>ID_LAT_LON_YEAR_WEEK</th>\n",
       "      <th>latitude</th>\n",
       "      <th>longitude</th>\n",
       "      <th>year</th>\n",
       "      <th>week_no</th>\n",
       "      <th>SulphurDioxide_SO2_column_number_density</th>\n",
       "      <th>SulphurDioxide_SO2_column_number_density_amf</th>\n",
       "      <th>SulphurDioxide_SO2_slant_column_number_density</th>\n",
       "      <th>SulphurDioxide_cloud_fraction</th>\n",
       "      <th>SulphurDioxide_sensor_azimuth_angle</th>\n",
       "      <th>...</th>\n",
       "      <th>Cloud_cloud_top_height</th>\n",
       "      <th>Cloud_cloud_base_pressure</th>\n",
       "      <th>Cloud_cloud_base_height</th>\n",
       "      <th>Cloud_cloud_optical_depth</th>\n",
       "      <th>Cloud_surface_albedo</th>\n",
       "      <th>Cloud_sensor_azimuth_angle</th>\n",
       "      <th>Cloud_sensor_zenith_angle</th>\n",
       "      <th>Cloud_solar_azimuth_angle</th>\n",
       "      <th>Cloud_solar_zenith_angle</th>\n",
       "      <th>emission</th>\n",
       "    </tr>\n",
       "  </thead>\n",
       "  <tbody>\n",
       "    <tr>\n",
       "      <th>0</th>\n",
       "      <td>ID_-0.510_29.290_2019_00</td>\n",
       "      <td>-0.51</td>\n",
       "      <td>29.29</td>\n",
       "      <td>2019</td>\n",
       "      <td>0</td>\n",
       "      <td>-0.000108</td>\n",
       "      <td>0.603019</td>\n",
       "      <td>-0.000065</td>\n",
       "      <td>0.255668</td>\n",
       "      <td>-98.593887</td>\n",
       "      <td>...</td>\n",
       "      <td>3664.436218</td>\n",
       "      <td>61085.809570</td>\n",
       "      <td>2615.120483</td>\n",
       "      <td>15.568533</td>\n",
       "      <td>0.272292</td>\n",
       "      <td>-12.628986</td>\n",
       "      <td>35.632416</td>\n",
       "      <td>-138.786423</td>\n",
       "      <td>30.752140</td>\n",
       "      <td>3.750994</td>\n",
       "    </tr>\n",
       "    <tr>\n",
       "      <th>1</th>\n",
       "      <td>ID_-0.510_29.290_2019_01</td>\n",
       "      <td>-0.51</td>\n",
       "      <td>29.29</td>\n",
       "      <td>2019</td>\n",
       "      <td>1</td>\n",
       "      <td>0.000021</td>\n",
       "      <td>0.728214</td>\n",
       "      <td>0.000014</td>\n",
       "      <td>0.130988</td>\n",
       "      <td>16.592861</td>\n",
       "      <td>...</td>\n",
       "      <td>3651.190311</td>\n",
       "      <td>66969.478735</td>\n",
       "      <td>3174.572424</td>\n",
       "      <td>8.690601</td>\n",
       "      <td>0.256830</td>\n",
       "      <td>30.359375</td>\n",
       "      <td>39.557633</td>\n",
       "      <td>-145.183930</td>\n",
       "      <td>27.251779</td>\n",
       "      <td>4.025176</td>\n",
       "    </tr>\n",
       "    <tr>\n",
       "      <th>2</th>\n",
       "      <td>ID_-0.510_29.290_2019_02</td>\n",
       "      <td>-0.51</td>\n",
       "      <td>29.29</td>\n",
       "      <td>2019</td>\n",
       "      <td>2</td>\n",
       "      <td>0.000514</td>\n",
       "      <td>0.748199</td>\n",
       "      <td>0.000385</td>\n",
       "      <td>0.110018</td>\n",
       "      <td>72.795837</td>\n",
       "      <td>...</td>\n",
       "      <td>4216.986492</td>\n",
       "      <td>60068.894448</td>\n",
       "      <td>3516.282669</td>\n",
       "      <td>21.103410</td>\n",
       "      <td>0.251101</td>\n",
       "      <td>15.377883</td>\n",
       "      <td>30.401823</td>\n",
       "      <td>-142.519545</td>\n",
       "      <td>26.193296</td>\n",
       "      <td>4.231381</td>\n",
       "    </tr>\n",
       "    <tr>\n",
       "      <th>3</th>\n",
       "      <td>ID_-0.510_29.290_2019_03</td>\n",
       "      <td>-0.51</td>\n",
       "      <td>29.29</td>\n",
       "      <td>2019</td>\n",
       "      <td>3</td>\n",
       "      <td>NaN</td>\n",
       "      <td>NaN</td>\n",
       "      <td>NaN</td>\n",
       "      <td>NaN</td>\n",
       "      <td>NaN</td>\n",
       "      <td>...</td>\n",
       "      <td>5228.507736</td>\n",
       "      <td>51064.547339</td>\n",
       "      <td>4180.973322</td>\n",
       "      <td>15.386899</td>\n",
       "      <td>0.262043</td>\n",
       "      <td>-11.293399</td>\n",
       "      <td>24.380357</td>\n",
       "      <td>-132.665828</td>\n",
       "      <td>28.829155</td>\n",
       "      <td>4.305286</td>\n",
       "    </tr>\n",
       "    <tr>\n",
       "      <th>4</th>\n",
       "      <td>ID_-0.510_29.290_2019_04</td>\n",
       "      <td>-0.51</td>\n",
       "      <td>29.29</td>\n",
       "      <td>2019</td>\n",
       "      <td>4</td>\n",
       "      <td>-0.000079</td>\n",
       "      <td>0.676296</td>\n",
       "      <td>-0.000048</td>\n",
       "      <td>0.121164</td>\n",
       "      <td>4.121269</td>\n",
       "      <td>...</td>\n",
       "      <td>3980.598120</td>\n",
       "      <td>63751.125781</td>\n",
       "      <td>3355.710107</td>\n",
       "      <td>8.114694</td>\n",
       "      <td>0.235847</td>\n",
       "      <td>38.532263</td>\n",
       "      <td>37.392979</td>\n",
       "      <td>-141.509805</td>\n",
       "      <td>22.204612</td>\n",
       "      <td>4.347317</td>\n",
       "    </tr>\n",
       "  </tbody>\n",
       "</table>\n",
       "<p>5 rows × 76 columns</p>\n",
       "</div>"
      ],
      "text/plain": [
       "       ID_LAT_LON_YEAR_WEEK  latitude  longitude  year  week_no  \\\n",
       "0  ID_-0.510_29.290_2019_00     -0.51      29.29  2019        0   \n",
       "1  ID_-0.510_29.290_2019_01     -0.51      29.29  2019        1   \n",
       "2  ID_-0.510_29.290_2019_02     -0.51      29.29  2019        2   \n",
       "3  ID_-0.510_29.290_2019_03     -0.51      29.29  2019        3   \n",
       "4  ID_-0.510_29.290_2019_04     -0.51      29.29  2019        4   \n",
       "\n",
       "   SulphurDioxide_SO2_column_number_density  \\\n",
       "0                                 -0.000108   \n",
       "1                                  0.000021   \n",
       "2                                  0.000514   \n",
       "3                                       NaN   \n",
       "4                                 -0.000079   \n",
       "\n",
       "   SulphurDioxide_SO2_column_number_density_amf  \\\n",
       "0                                      0.603019   \n",
       "1                                      0.728214   \n",
       "2                                      0.748199   \n",
       "3                                           NaN   \n",
       "4                                      0.676296   \n",
       "\n",
       "   SulphurDioxide_SO2_slant_column_number_density  \\\n",
       "0                                       -0.000065   \n",
       "1                                        0.000014   \n",
       "2                                        0.000385   \n",
       "3                                             NaN   \n",
       "4                                       -0.000048   \n",
       "\n",
       "   SulphurDioxide_cloud_fraction  SulphurDioxide_sensor_azimuth_angle  ...  \\\n",
       "0                       0.255668                           -98.593887  ...   \n",
       "1                       0.130988                            16.592861  ...   \n",
       "2                       0.110018                            72.795837  ...   \n",
       "3                            NaN                                  NaN  ...   \n",
       "4                       0.121164                             4.121269  ...   \n",
       "\n",
       "   Cloud_cloud_top_height  Cloud_cloud_base_pressure  Cloud_cloud_base_height  \\\n",
       "0             3664.436218               61085.809570              2615.120483   \n",
       "1             3651.190311               66969.478735              3174.572424   \n",
       "2             4216.986492               60068.894448              3516.282669   \n",
       "3             5228.507736               51064.547339              4180.973322   \n",
       "4             3980.598120               63751.125781              3355.710107   \n",
       "\n",
       "   Cloud_cloud_optical_depth  Cloud_surface_albedo  \\\n",
       "0                  15.568533              0.272292   \n",
       "1                   8.690601              0.256830   \n",
       "2                  21.103410              0.251101   \n",
       "3                  15.386899              0.262043   \n",
       "4                   8.114694              0.235847   \n",
       "\n",
       "   Cloud_sensor_azimuth_angle  Cloud_sensor_zenith_angle  \\\n",
       "0                  -12.628986                  35.632416   \n",
       "1                   30.359375                  39.557633   \n",
       "2                   15.377883                  30.401823   \n",
       "3                  -11.293399                  24.380357   \n",
       "4                   38.532263                  37.392979   \n",
       "\n",
       "   Cloud_solar_azimuth_angle  Cloud_solar_zenith_angle  emission  \n",
       "0                -138.786423                 30.752140  3.750994  \n",
       "1                -145.183930                 27.251779  4.025176  \n",
       "2                -142.519545                 26.193296  4.231381  \n",
       "3                -132.665828                 28.829155  4.305286  \n",
       "4                -141.509805                 22.204612  4.347317  \n",
       "\n",
       "[5 rows x 76 columns]"
      ]
     },
     "execution_count": 1,
     "metadata": {},
     "output_type": "execute_result"
    }
   ],
   "source": [
    "# Start by loading the data and inspecting its structure and content\n",
    "\n",
    "import pandas as pd\n",
    "\n",
    "# Load the dataset\n",
    "data = pd.read_csv('train.csv')\n",
    "\n",
    "# Display the first few rows of the dataframe\n",
    "data.head()\n"
   ]
  },
  {
   "cell_type": "markdown",
   "id": "9c836c77",
   "metadata": {},
   "source": [
    "The columns can be categorized into two main groups:\n",
    "\n",
    "**Location and Time:** These include latitude, longitude, year, and week_no, which represent the geographic location and time when the data was recorded.\n",
    "\n",
    "**Atmospheric Features:** There are 71 atmospheric features, which presumably come from satellite data. They include a wide range of measurements, such as SulphurDioxide_SO2_column_number_density, SulphurDioxide_SO2_column_number_density_amf, SulphurDioxide_SO2_slant_column_number_density, and so on. These features appear to be related to various atmospheric phenomena and chemicals."
   ]
  },
  {
   "cell_type": "code",
   "execution_count": 2,
   "id": "8f553764",
   "metadata": {},
   "outputs": [
    {
     "data": {
      "text/html": [
       "<div>\n",
       "<style scoped>\n",
       "    .dataframe tbody tr th:only-of-type {\n",
       "        vertical-align: middle;\n",
       "    }\n",
       "\n",
       "    .dataframe tbody tr th {\n",
       "        vertical-align: top;\n",
       "    }\n",
       "\n",
       "    .dataframe thead th {\n",
       "        text-align: right;\n",
       "    }\n",
       "</style>\n",
       "<table border=\"1\" class=\"dataframe\">\n",
       "  <thead>\n",
       "    <tr style=\"text-align: right;\">\n",
       "      <th></th>\n",
       "      <th>Total</th>\n",
       "      <th>Percentage</th>\n",
       "    </tr>\n",
       "  </thead>\n",
       "  <tbody>\n",
       "    <tr>\n",
       "      <th>UvAerosolLayerHeight_aerosol_height</th>\n",
       "      <td>78584</td>\n",
       "      <td>0.994445</td>\n",
       "    </tr>\n",
       "    <tr>\n",
       "      <th>UvAerosolLayerHeight_solar_zenith_angle</th>\n",
       "      <td>78584</td>\n",
       "      <td>0.994445</td>\n",
       "    </tr>\n",
       "    <tr>\n",
       "      <th>UvAerosolLayerHeight_solar_azimuth_angle</th>\n",
       "      <td>78584</td>\n",
       "      <td>0.994445</td>\n",
       "    </tr>\n",
       "    <tr>\n",
       "      <th>UvAerosolLayerHeight_sensor_azimuth_angle</th>\n",
       "      <td>78584</td>\n",
       "      <td>0.994445</td>\n",
       "    </tr>\n",
       "    <tr>\n",
       "      <th>UvAerosolLayerHeight_aerosol_pressure</th>\n",
       "      <td>78584</td>\n",
       "      <td>0.994445</td>\n",
       "    </tr>\n",
       "    <tr>\n",
       "      <th>UvAerosolLayerHeight_aerosol_optical_depth</th>\n",
       "      <td>78584</td>\n",
       "      <td>0.994445</td>\n",
       "    </tr>\n",
       "    <tr>\n",
       "      <th>UvAerosolLayerHeight_sensor_zenith_angle</th>\n",
       "      <td>78584</td>\n",
       "      <td>0.994445</td>\n",
       "    </tr>\n",
       "    <tr>\n",
       "      <th>NitrogenDioxide_tropopause_pressure</th>\n",
       "      <td>18320</td>\n",
       "      <td>0.231831</td>\n",
       "    </tr>\n",
       "    <tr>\n",
       "      <th>NitrogenDioxide_stratospheric_NO2_column_number_density</th>\n",
       "      <td>18320</td>\n",
       "      <td>0.231831</td>\n",
       "    </tr>\n",
       "    <tr>\n",
       "      <th>NitrogenDioxide_NO2_slant_column_number_density</th>\n",
       "      <td>18320</td>\n",
       "      <td>0.231831</td>\n",
       "    </tr>\n",
       "  </tbody>\n",
       "</table>\n",
       "</div>"
      ],
      "text/plain": [
       "                                                    Total  Percentage\n",
       "UvAerosolLayerHeight_aerosol_height                 78584    0.994445\n",
       "UvAerosolLayerHeight_solar_zenith_angle             78584    0.994445\n",
       "UvAerosolLayerHeight_solar_azimuth_angle            78584    0.994445\n",
       "UvAerosolLayerHeight_sensor_azimuth_angle           78584    0.994445\n",
       "UvAerosolLayerHeight_aerosol_pressure               78584    0.994445\n",
       "UvAerosolLayerHeight_aerosol_optical_depth          78584    0.994445\n",
       "UvAerosolLayerHeight_sensor_zenith_angle            78584    0.994445\n",
       "NitrogenDioxide_tropopause_pressure                 18320    0.231831\n",
       "NitrogenDioxide_stratospheric_NO2_column_number...  18320    0.231831\n",
       "NitrogenDioxide_NO2_slant_column_number_density     18320    0.231831"
      ]
     },
     "execution_count": 2,
     "metadata": {},
     "output_type": "execute_result"
    }
   ],
   "source": [
    "# Check for missing values in the dataset\n",
    "\n",
    "missing_values = data.isnull().sum().sort_values(ascending=False)\n",
    "missing_values_percentage = (data.isnull().sum()/data.isnull().count()).sort_values(ascending=False)\n",
    "\n",
    "# Create a dataframe for missing values analysis\n",
    "missing_data = pd.concat([missing_values, missing_values_percentage], axis=1, keys=['Total', 'Percentage'])\n",
    "\n",
    "# Display the dataframe\n",
    "missing_data.head(10)\n"
   ]
  },
  {
   "cell_type": "markdown",
   "id": "75916cac",
   "metadata": {},
   "source": [
    "Some columns in the dataset have a significant number of missing values. \n",
    "\n",
    "For example, several columns related to UvAerosolLayerHeight are missing almost 99.4% of their data. Moreover, several NitrogenDioxide columns are missing around 23.1% of their data."
   ]
  },
  {
   "cell_type": "code",
   "execution_count": 3,
   "id": "a947dc7f",
   "metadata": {},
   "outputs": [
    {
     "data": {
      "image/png": "[encoded data removed]",
      "text/plain": [
       "<Figure size 1000x600 with 1 Axes>"
      ]
     },
     "metadata": {},
     "output_type": "display_data"
    }
   ],
   "source": [
    "import matplotlib.pyplot as plt\n",
    "import seaborn as sns\n",
    "\n",
    "# Plot distribution of the target variable\n",
    "plt.figure(figsize=(10,6))\n",
    "sns.histplot(data['emission'], kde=True)\n",
    "plt.title('Distribution of Emission')\n",
    "plt.xlabel('Emission')\n",
    "plt.ylabel('Frequency')\n",
    "plt.show()\n"
   ]
  },
  {
   "cell_type": "markdown",
   "id": "c109c530",
   "metadata": {},
   "source": [
    "The distribution of the emission variable appears to be skewed to the right, with the majority of values falling in the lower range. This is a common scenario in many real-world datasets."
   ]
  },
  {
   "cell_type": "code",
   "execution_count": 4,
   "id": "6d165929",
   "metadata": {},
   "outputs": [
    {
     "data": {
      "image/png": "[encoded data removed]",
      "text/plain": [
       "<Figure size 1000x600 with 1 Axes>"
      ]
     },
     "metadata": {},
     "output_type": "display_data"
    }
   ],
   "source": [
    "# Plot emissions by year\n",
    "plt.figure(figsize=(10,6))\n",
    "sns.boxplot(x='year', y='emission', data=data)\n",
    "plt.title('Emissions by Year')\n",
    "plt.xlabel('Year')\n",
    "plt.ylabel('Emission')\n",
    "plt.show()\n"
   ]
  },
  {
   "cell_type": "markdown",
   "id": "6ce36c7f",
   "metadata": {},
   "source": [
    "The boxplot shows that the median value of emissions seems to slightly increase over the years. However, the overall distribution of emissions appears to be fairly consistent from year to year. The interquartile range (the box part of the boxplot) and the range (the whiskers part of the boxplot) do not show significant changes over time."
   ]
  },
  {
   "cell_type": "code",
   "execution_count": 5,
   "id": "9c70603e",
   "metadata": {},
   "outputs": [
    {
     "data": {
      "image/png": "[encoded data removed]",
      "text/plain": [
       "<Figure size 1500x600 with 1 Axes>"
      ]
     },
     "metadata": {},
     "output_type": "display_data"
    }
   ],
   "source": [
    "# Plot emissions by week\n",
    "plt.figure(figsize=(15,6))\n",
    "sns.boxplot(x='week_no', y='emission', data=data)\n",
    "plt.title('Emissions by Week')\n",
    "plt.xlabel('Week Number')\n",
    "plt.ylabel('Emission')\n",
    "plt.show()\n"
   ]
  },
  {
   "cell_type": "markdown",
   "id": "c142249b",
   "metadata": {},
   "source": [
    "The boxplot of emissions by week number doesn't show a clear pattern or trend. The median, interquartile range, and overall range of emissions appear to fluctuate somewhat throughout the year, but there's no clear seasonality or consistent pattern."
   ]
  },
  {
   "cell_type": "code",
   "execution_count": 6,
   "id": "88746dc6",
   "metadata": {},
   "outputs": [
    {
     "data": {
      "image/png": "[encoded data removed]",
      "text/plain": [
       "<Figure size 1000x600 with 1 Axes>"
      ]
     },
     "metadata": {},
     "output_type": "display_data"
    }
   ],
   "source": [
    "# Plot emissions by latitude\n",
    "plt.figure(figsize=(10,6))\n",
    "plt.scatter(data['latitude'], data['emission'], alpha=0.5)\n",
    "plt.title('Emissions by Latitude')\n",
    "plt.xlabel('Latitude')\n",
    "plt.ylabel('Emission')\n",
    "plt.show()\n"
   ]
  },
  {
   "cell_type": "markdown",
   "id": "b6d2f756",
   "metadata": {},
   "source": [
    "The scatter plot of emissions by latitude shows a somewhat uneven distribution. Emissions appear to be somewhat higher in the middle latitudes, but there's not a clear or strong relationship between latitude and emissions."
   ]
  },
  {
   "cell_type": "code",
   "execution_count": 7,
   "id": "4b75570f",
   "metadata": {},
   "outputs": [
    {
     "data": {
      "image/png": "[encoded data removed]",
      "text/plain": [
       "<Figure size 1000x600 with 1 Axes>"
      ]
     },
     "metadata": {},
     "output_type": "display_data"
    }
   ],
   "source": [
    "# Plot emissions by longitude\n",
    "plt.figure(figsize=(10,6))\n",
    "plt.scatter(data['longitude'], data['emission'], alpha=0.5)\n",
    "plt.title('Emissions by Longitude')\n",
    "plt.xlabel('Longitude')\n",
    "plt.ylabel('Emission')\n",
    "plt.show()\n"
   ]
  },
  {
   "cell_type": "markdown",
   "id": "7f6d1171",
   "metadata": {},
   "source": [
    "The scatter plot of emissions by longitude also shows a somewhat uneven distribution, but again, there's no clear or strong relationship between longitude and emissions."
   ]
  },
  {
   "cell_type": "code",
   "execution_count": 8,
   "id": "3581655d",
   "metadata": {},
   "outputs": [
    {
     "data": {
      "text/plain": [
       "0"
      ]
     },
     "execution_count": 8,
     "metadata": {},
     "output_type": "execute_result"
    }
   ],
   "source": [
    "from sklearn.impute import SimpleImputer\n",
    "\n",
    "# Drop columns with more than 90% missing values\n",
    "data = data.dropna(thresh=len(data)*0.1, axis=1)\n",
    "\n",
    "# Impute remaining missing values with column median\n",
    "imputer = SimpleImputer(strategy='median')\n",
    "data_imputed = pd.DataFrame(imputer.fit_transform(data.select_dtypes(include=['float64', 'int64'])))\n",
    "data_imputed.columns = data.select_dtypes(include=['float64', 'int64']).columns\n",
    "data[data_imputed.columns] = data_imputed\n",
    "\n",
    "# Check if there are still any missing values\n",
    "data.isnull().sum().max()\n"
   ]
  },
  {
   "cell_type": "markdown",
   "id": "a40bb3a9",
   "metadata": {},
   "source": [
    "Now all missing values have been handled in our dataset."
   ]
  },
  {
   "cell_type": "markdown",
   "id": "85b144cd",
   "metadata": {},
   "source": [
    "# Initial Model Building:"
   ]
  },
  {
   "cell_type": "code",
   "execution_count": 9,
   "id": "bec2e7e5",
   "metadata": {},
   "outputs": [
    {
     "data": {
      "text/plain": [
       "((63218, 67), (15805, 67))"
      ]
     },
     "execution_count": 9,
     "metadata": {},
     "output_type": "execute_result"
    }
   ],
   "source": [
    "from sklearn.model_selection import train_test_split\n",
    "from sklearn.preprocessing import StandardScaler\n",
    "\n",
    "# Define the features (X) and the target variable (y)\n",
    "X = data.drop(['emission', 'ID_LAT_LON_YEAR_WEEK'], axis=1)  # we also drop the 'ID_LAT_LON_YEAR_WEEK' column as it's an identifier, not a feature\n",
    "y = data['emission']\n",
    "\n",
    "# Split the data into training and test sets\n",
    "X_train, X_test, y_train, y_test = train_test_split(X, y, test_size=0.2, random_state=42)\n",
    "\n",
    "# Apply standard scaling to the features\n",
    "scaler = StandardScaler()\n",
    "X_train_scaled = scaler.fit_transform(X_train)\n",
    "X_test_scaled = scaler.transform(X_test)\n",
    "\n",
    "X_train_scaled.shape, X_test_scaled.shape\n"
   ]
  },
  {
   "cell_type": "markdown",
   "id": "5ea514ed",
   "metadata": {},
   "source": [
    "The training set contains 63,218 observations and the test set contains 15,805 observations. Each observation has 67 features."
   ]
  },
  {
   "cell_type": "code",
   "execution_count": 10,
   "id": "7f58beaf",
   "metadata": {},
   "outputs": [
    {
     "data": {
      "text/plain": [
       "126.04551665964244"
      ]
     },
     "execution_count": 10,
     "metadata": {},
     "output_type": "execute_result"
    }
   ],
   "source": [
    "from sklearn.linear_model import LinearRegression\n",
    "from sklearn.metrics import mean_squared_error\n",
    "import numpy as np\n",
    "\n",
    "# Initialize the Linear Regression model\n",
    "model = LinearRegression()\n",
    "\n",
    "# Train the model\n",
    "model.fit(X_train_scaled, y_train)\n",
    "\n",
    "# Make predictions on the test set\n",
    "y_pred = model.predict(X_test_scaled)\n",
    "\n",
    "# Calculate the Root Mean Squared Error (RMSE)\n",
    "rmse = np.sqrt(mean_squared_error(y_test, y_pred))\n",
    "\n",
    "rmse\n"
   ]
  },
  {
   "cell_type": "markdown",
   "id": "7966d2d1",
   "metadata": {},
   "source": [
    "The root mean squared error (RMSE) of our linear regression model on the test set is approximately 126.04. This value represents the standard deviation of the residuals (prediction errors). A lower RMSE indicates a better fit to the data.\n",
    "\n"
   ]
  },
  {
   "cell_type": "markdown",
   "id": "79ae0d59",
   "metadata": {},
   "source": [
    "Given the large number of features in our dataset and the simplicity of the linear regression model, it's possible that a more complex model could achieve better performance. However, it's also important to be mindful of the risk of overfitting, especially when dealing with complex models and high-dimensional data."
   ]
  },
  {
   "cell_type": "markdown",
   "id": "a074b21b",
   "metadata": {},
   "source": [
    "There are many methods for feature selection and dimensionality reduction. Here are a few common ones:\n",
    "\n",
    "Feature Importance: Many machine learning algorithms can provide an estimate of feature importance, which can be used to select the most relevant features. Tree-based methods, such as decision trees, random forest, and XGBoost, are particularly good at this.\n",
    "\n",
    "Correlation Matrix: Features that are highly correlated with the target variable are generally more relevant for prediction. A correlation matrix can be used to select these features.\n",
    "\n",
    "Principal Component Analysis (PCA): PCA is a popular method for dimensionality reduction. It transforms the original features into a new set of features, which are linear combinations of the original features. These new features (called principal components) are orthogonal (uncorrelated), and are ordered so that the first few retain most of the variation present in all of the original features."
   ]
  },
  {
   "cell_type": "markdown",
   "id": "81733104",
   "metadata": {},
   "source": [
    "# Principal Components:"
   ]
  },
  {
   "cell_type": "code",
   "execution_count": 11,
   "id": "badfac74",
   "metadata": {},
   "outputs": [
    {
     "data": {
      "image/png": "[encoded data removed]",
      "text/plain": [
       "<Figure size 1000x600 with 1 Axes>"
      ]
     },
     "metadata": {},
     "output_type": "display_data"
    }
   ],
   "source": [
    "from sklearn.decomposition import PCA\n",
    "\n",
    "# Apply PCA\n",
    "pca = PCA()\n",
    "X_train_pca = pca.fit_transform(X_train_scaled)\n",
    "\n",
    "# Calculate cumulative explained variance\n",
    "explained_variance = np.cumsum(pca.explained_variance_ratio_)\n",
    "\n",
    "# Plot the explained variance\n",
    "plt.figure(figsize=(10,6))\n",
    "plt.plot(range(1, len(explained_variance)+1), explained_variance)\n",
    "plt.title('Cumulative Explained Variance by Principal Components')\n",
    "plt.xlabel('Number of Principal Components')\n",
    "plt.ylabel('Cumulative Explained Variance')\n",
    "plt.grid(True)\n",
    "plt.show()\n"
   ]
  },
  {
   "cell_type": "markdown",
   "id": "a118a93a",
   "metadata": {},
   "source": [
    "The plot above shows the cumulative explained variance by the principal components. Each point on the curve indicates how much variance is explained by the first \n",
    "�\n",
    "n principal components.\n",
    "\n",
    "For instance, the first 10 principal components explain approximately 90% of the variance in the data, and the first 20 principal components explain almost 95% of the variance.\n",
    "\n",
    "Based on this, we could choose to retain the first 20 principal components for our predictive models, which would reduce the dimensionality of our data from 67 features to 20 principal components, while still retaining most of the information in the data."
   ]
  },
  {
   "cell_type": "code",
   "execution_count": 12,
   "id": "6dcf0f03",
   "metadata": {},
   "outputs": [
    {
     "data": {
      "text/plain": [
       "127.44355104225495"
      ]
     },
     "execution_count": 12,
     "metadata": {},
     "output_type": "execute_result"
    }
   ],
   "source": [
    "# Apply PCA with 20 components\n",
    "pca = PCA(n_components=20)\n",
    "X_train_pca = pca.fit_transform(X_train_scaled)\n",
    "X_test_pca = pca.transform(X_test_scaled)\n",
    "\n",
    "# Initialize the Linear Regression model\n",
    "model_pca = LinearRegression()\n",
    "\n",
    "# Train the model\n",
    "model_pca.fit(X_train_pca, y_train)\n",
    "\n",
    "# Make predictions on the test set\n",
    "y_pred_pca = model_pca.predict(X_test_pca)\n",
    "\n",
    "# Calculate the Root Mean Squared Error (RMSE)\n",
    "rmse_pca = np.sqrt(mean_squared_error(y_test, y_pred_pca))\n",
    "\n",
    "rmse_pca\n"
   ]
  },
  {
   "cell_type": "markdown",
   "id": "3eacb3d4",
   "metadata": {},
   "source": [
    "The root mean squared error (RMSE) of our linear regression model, using the first 20 principal components, on the test set is approximately 127.44. This value is slightly higher than the RMSE of the model using the original features (126.04).\n",
    "\n",
    "This slight increase in RMSE might be due to the reduction in dimensionality, which can cause some loss of information. However, given that we've reduced the number of features from 67 to 20, this small increase in RMSE might be acceptable considering the benefits of dimensionality reduction, such as potentially simpler and more interpretable models, and faster training times."
   ]
  },
  {
   "cell_type": "markdown",
   "id": "0b9eb718",
   "metadata": {},
   "source": [
    "# Different Models:"
   ]
  },
  {
   "cell_type": "markdown",
   "id": "ea8cad0e",
   "metadata": {},
   "source": [
    "Given that our task is a regression problem, some suitable models might include:\n",
    "\n",
    "Ridge Regression: This is a variant of linear regression that includes a regularization term to prevent overfitting.\n",
    "\n",
    "Lasso Regression: This is another variant of linear regression that includes a different type of regularization term, which can result in sparse solutions (i.e., solutions where some coefficients are exactly zero).\n",
    "\n",
    "Random Forest Regressor: This is a more complex model that constructs a multitude of decision trees at training time and outputs the mean prediction of the individual trees.\n",
    "\n",
    "Gradient Boosting Regressor: This is another complex model that builds an additive model in a forward stage-wise fashion; it allows for the optimization of arbitrary differentiable loss functions."
   ]
  },
  {
   "cell_type": "code",
   "execution_count": 13,
   "id": "9c975411",
   "metadata": {},
   "outputs": [],
   "source": [
    "from sklearn.linear_model import Ridge, Lasso\n",
    "from sklearn.ensemble import RandomForestRegressor, GradientBoostingRegressor\n"
   ]
  },
  {
   "cell_type": "code",
   "execution_count": 14,
   "id": "7648e1de",
   "metadata": {},
   "outputs": [
    {
     "data": {
      "text/plain": [
       "{'Ridge Regression': 127.44355287293222,\n",
       " 'Lasso Regression': 127.52299234551809}"
      ]
     },
     "execution_count": 14,
     "metadata": {},
     "output_type": "execute_result"
    }
   ],
   "source": [
    "# Initialize the Ridge and Lasso regression models\n",
    "models = {\n",
    "    'Ridge Regression': Ridge(),\n",
    "    'Lasso Regression': Lasso()\n",
    "}\n",
    "\n",
    "# Train each model and calculate its RMSE\n",
    "rmses = {}\n",
    "for model_name, model in models.items():\n",
    "    model.fit(X_train_pca, y_train)\n",
    "    y_pred = model.predict(X_test_pca)\n",
    "    rmses[model_name] = np.sqrt(mean_squared_error(y_test, y_pred))\n",
    "\n",
    "rmses\n"
   ]
  },
  {
   "cell_type": "code",
   "execution_count": 15,
   "id": "05468eb3",
   "metadata": {},
   "outputs": [
    {
     "data": {
      "text/plain": [
       "{'Ridge Regression': 127.44355287293222,\n",
       " 'Lasso Regression': 127.52299234551809,\n",
       " 'Random Forest': 137.6608353904019}"
      ]
     },
     "execution_count": 15,
     "metadata": {},
     "output_type": "execute_result"
    }
   ],
   "source": [
    "# Initialize the Random Forest model with a small number of trees\n",
    "model = RandomForestRegressor(n_estimators=10, random_state=42)\n",
    "\n",
    "# Train the model\n",
    "model.fit(X_train_pca, y_train)\n",
    "\n",
    "# Make predictions on the test set\n",
    "y_pred = model.predict(X_test_pca)\n",
    "\n",
    "# Calculate the RMSE\n",
    "rmses['Random Forest'] = np.sqrt(mean_squared_error(y_test, y_pred))\n",
    "\n",
    "rmses\n"
   ]
  },
  {
   "cell_type": "code",
   "execution_count": 16,
   "id": "0911479a",
   "metadata": {},
   "outputs": [],
   "source": [
    "# Initialize the Gradient Boosting model with a small number of estimators\n",
    "model = GradientBoostingRegressor(n_estimators=50, random_state=42)\n",
    "\n",
    "# Train the model\n",
    "model.fit(X_train_pca, y_train)\n",
    "\n",
    "# Make predictions on the test set\n",
    "y_pred = model.predict(X_test_pca)\n",
    "\n",
    "# Calculate the RMSE\n",
    "rmses['Gradient Boosting'] = np.sqrt(mean_squared_error(y_test, y_pred))\n",
    "\n",
    "rmses\n",
    "best_model=model"
   ]
  },
  {
   "cell_type": "markdown",
   "id": "8d30991c",
   "metadata": {},
   "source": [
    "Based on these results, the Gradient Boosting model performed the best on our test set, followed closely by the Ridge, Lasso, and Linear Regression models. The Random Forest model performed the worst, possibly due to the relatively small number of trees we used."
   ]
  },
  {
   "cell_type": "markdown",
   "id": "c16883bf",
   "metadata": {},
   "source": [
    "# Hyperparameters:"
   ]
  },
  {
   "cell_type": "markdown",
   "id": "877433c3",
   "metadata": {},
   "source": [
    "Ridge Regression: The key hyperparameter is alpha, which controls the strength of the regularization. Larger values of alpha increase the amount of regularization and can lead to smaller coefficients, potentially reducing overfitting but also potentially increasing underfitting.\n",
    "\n",
    "Lasso Regression: Similar to Ridge Regression, the key hyperparameter is alpha. However, in Lasso Regression, larger values of alpha can lead to more coefficients being exactly zero, which can be useful if we believe that only a subset of the features are actually relevant.\n",
    "\n",
    "Random Forest: Some of the key hyperparameters include n_estimators (the number of trees in the forest), max_depth (the maximum depth of the trees), and max_features (the number of features to consider when looking for the best split).\n",
    "\n",
    "Gradient Boosting: Some of the key hyperparameters include n_estimators (the number of boosting stages to perform), learning_rate (the learning rate), and max_depth (the maximum depth of the individual regression estimators)."
   ]
  },
  {
   "cell_type": "markdown",
   "id": "90dd6fdc",
   "metadata": {},
   "source": [
    "**Ridge-Regression**"
   ]
  },
  {
   "cell_type": "code",
   "execution_count": 17,
   "id": "69cc459b",
   "metadata": {},
   "outputs": [
    {
     "data": {
      "text/plain": [
       "{'alpha': 100}"
      ]
     },
     "execution_count": 17,
     "metadata": {},
     "output_type": "execute_result"
    }
   ],
   "source": [
    "from sklearn.model_selection import RandomizedSearchCV\n",
    "\n",
    "# Define the hyperparameters to tune for the Ridge Regression model\n",
    "ridge_params = {\n",
    "    'alpha': [1e-3, 1e-2, 1e-1, 1, 10, 100]\n",
    "}\n",
    "\n",
    "# Initialize the RandomizedSearchCV object\n",
    "ridge_search = RandomizedSearchCV(Ridge(), ridge_params, cv=5, scoring='neg_root_mean_squared_error', n_iter=6, random_state=42)\n",
    "\n",
    "# Perform the search\n",
    "ridge_search.fit(X_train_pca, y_train)\n",
    "\n",
    "# Get the best parameters\n",
    "ridge_best_params = ridge_search.best_params_\n",
    "\n",
    "ridge_best_params\n"
   ]
  },
  {
   "cell_type": "code",
   "execution_count": 18,
   "id": "74fd694a",
   "metadata": {},
   "outputs": [
    {
     "data": {
      "text/plain": [
       "{'Ridge Regression': 127.44355287293222,\n",
       " 'Lasso Regression': 127.52299234551809,\n",
       " 'Random Forest': 137.6608353904019,\n",
       " 'Gradient Boosting': 126.67374712764287,\n",
       " 'Ridge Regression (tuned)': 127.44373478759415}"
      ]
     },
     "execution_count": 18,
     "metadata": {},
     "output_type": "execute_result"
    }
   ],
   "source": [
    "# Initialize the Ridge Regression model with the best parameters\n",
    "model = Ridge(**ridge_best_params)\n",
    "\n",
    "# Train the model\n",
    "model.fit(X_train_pca, y_train)\n",
    "\n",
    "# Make predictions on the test set\n",
    "y_pred = model.predict(X_test_pca)\n",
    "\n",
    "# Calculate the RMSE\n",
    "rmses['Ridge Regression (tuned)'] = np.sqrt(mean_squared_error(y_test, y_pred))\n",
    "\n",
    "rmses\n"
   ]
  },
  {
   "cell_type": "markdown",
   "id": "15bee77e",
   "metadata": {},
   "source": [
    "The RMSE of the tuned Ridge Regression model on the test set is approximately 127.44, which is virtually the same as the RMSE of the original Ridge Regression model (127.44). This suggests that the default hyperparameters of the Ridge Regression model were already quite good for our data."
   ]
  },
  {
   "cell_type": "markdown",
   "id": "7d9a5e1b",
   "metadata": {},
   "source": [
    "**Lasso-Regression:**"
   ]
  },
  {
   "cell_type": "code",
   "execution_count": 19,
   "id": "c66e03ee",
   "metadata": {},
   "outputs": [
    {
     "data": {
      "text/plain": [
       "{'alpha': 0.1}"
      ]
     },
     "execution_count": 19,
     "metadata": {},
     "output_type": "execute_result"
    }
   ],
   "source": [
    "# Define the hyperparameters to tune for the Lasso Regression model\n",
    "lasso_params = {\n",
    "    'alpha': [1e-3, 1e-2, 1e-1, 1, 10, 100]\n",
    "}\n",
    "\n",
    "# Initialize the RandomizedSearchCV object\n",
    "lasso_search = RandomizedSearchCV(Lasso(), lasso_params, cv=5, scoring='neg_root_mean_squared_error', n_iter=6, random_state=42)\n",
    "\n",
    "# Perform the search\n",
    "lasso_search.fit(X_train_pca, y_train)\n",
    "\n",
    "# Get the best parameters\n",
    "lasso_best_params = lasso_search.best_params_\n",
    "\n",
    "lasso_best_params\n"
   ]
  },
  {
   "cell_type": "code",
   "execution_count": 20,
   "id": "f1c27ed6",
   "metadata": {},
   "outputs": [
    {
     "data": {
      "text/plain": [
       "{'Ridge Regression': 127.44355287293222,\n",
       " 'Lasso Regression': 127.52299234551809,\n",
       " 'Random Forest': 137.6608353904019,\n",
       " 'Gradient Boosting': 126.67374712764287,\n",
       " 'Ridge Regression (tuned)': 127.44373478759415,\n",
       " 'Lasso Regression (tuned)': 127.44966309635348}"
      ]
     },
     "execution_count": 20,
     "metadata": {},
     "output_type": "execute_result"
    }
   ],
   "source": [
    "# Initialize the Lasso Regression model with the best parameters\n",
    "model = Lasso(**lasso_best_params)\n",
    "\n",
    "# Train the model\n",
    "model.fit(X_train_pca, y_train)\n",
    "\n",
    "# Make predictions on the test set\n",
    "y_pred = model.predict(X_test_pca)\n",
    "\n",
    "# Calculate the RMSE\n",
    "rmses['Lasso Regression (tuned)'] = np.sqrt(mean_squared_error(y_test, y_pred))\n",
    "\n",
    "rmses\n"
   ]
  },
  {
   "cell_type": "markdown",
   "id": "557c94d2",
   "metadata": {},
   "source": [
    "The RMSE of the tuned Lasso Regression model on the test set is approximately 127.45, which is slightly lower than the RMSE of the original Lasso Regression model (127.52). This suggests that tuning the hyperparameters of the Lasso Regression model resulted in a small improvement in performance."
   ]
  },
  {
   "cell_type": "markdown",
   "id": "18907563",
   "metadata": {},
   "source": [
    "# Predicting the test set"
   ]
  },
  {
   "cell_type": "code",
   "execution_count": 21,
   "id": "f6218972",
   "metadata": {},
   "outputs": [],
   "source": [
    "test= pd.read_csv('test.csv')"
   ]
  },
  {
   "cell_type": "code",
   "execution_count": 22,
   "id": "90e3c25d",
   "metadata": {},
   "outputs": [
    {
     "data": {
      "text/html": [
       "<div>\n",
       "<style scoped>\n",
       "    .dataframe tbody tr th:only-of-type {\n",
       "        vertical-align: middle;\n",
       "    }\n",
       "\n",
       "    .dataframe tbody tr th {\n",
       "        vertical-align: top;\n",
       "    }\n",
       "\n",
       "    .dataframe thead th {\n",
       "        text-align: right;\n",
       "    }\n",
       "</style>\n",
       "<table border=\"1\" class=\"dataframe\">\n",
       "  <thead>\n",
       "    <tr style=\"text-align: right;\">\n",
       "      <th></th>\n",
       "      <th>Total</th>\n",
       "      <th>Percentage</th>\n",
       "    </tr>\n",
       "  </thead>\n",
       "  <tbody>\n",
       "    <tr>\n",
       "      <th>UvAerosolLayerHeight_aerosol_pressure</th>\n",
       "      <td>22260.0</td>\n",
       "      <td>NaN</td>\n",
       "    </tr>\n",
       "    <tr>\n",
       "      <th>UvAerosolLayerHeight_aerosol_optical_depth</th>\n",
       "      <td>22260.0</td>\n",
       "      <td>NaN</td>\n",
       "    </tr>\n",
       "    <tr>\n",
       "      <th>UvAerosolLayerHeight_sensor_zenith_angle</th>\n",
       "      <td>22260.0</td>\n",
       "      <td>NaN</td>\n",
       "    </tr>\n",
       "    <tr>\n",
       "      <th>UvAerosolLayerHeight_sensor_azimuth_angle</th>\n",
       "      <td>22260.0</td>\n",
       "      <td>NaN</td>\n",
       "    </tr>\n",
       "    <tr>\n",
       "      <th>UvAerosolLayerHeight_aerosol_height</th>\n",
       "      <td>22260.0</td>\n",
       "      <td>NaN</td>\n",
       "    </tr>\n",
       "    <tr>\n",
       "      <th>UvAerosolLayerHeight_solar_zenith_angle</th>\n",
       "      <td>22260.0</td>\n",
       "      <td>NaN</td>\n",
       "    </tr>\n",
       "    <tr>\n",
       "      <th>UvAerosolLayerHeight_solar_azimuth_angle</th>\n",
       "      <td>22260.0</td>\n",
       "      <td>NaN</td>\n",
       "    </tr>\n",
       "    <tr>\n",
       "      <th>SulphurDioxide_sensor_zenith_angle</th>\n",
       "      <td>6142.0</td>\n",
       "      <td>0.077724</td>\n",
       "    </tr>\n",
       "    <tr>\n",
       "      <th>SulphurDioxide_SO2_column_number_density_15km</th>\n",
       "      <td>6142.0</td>\n",
       "      <td>0.077724</td>\n",
       "    </tr>\n",
       "    <tr>\n",
       "      <th>SulphurDioxide_solar_azimuth_angle</th>\n",
       "      <td>6142.0</td>\n",
       "      <td>0.077724</td>\n",
       "    </tr>\n",
       "  </tbody>\n",
       "</table>\n",
       "</div>"
      ],
      "text/plain": [
       "                                                 Total  Percentage\n",
       "UvAerosolLayerHeight_aerosol_pressure          22260.0         NaN\n",
       "UvAerosolLayerHeight_aerosol_optical_depth     22260.0         NaN\n",
       "UvAerosolLayerHeight_sensor_zenith_angle       22260.0         NaN\n",
       "UvAerosolLayerHeight_sensor_azimuth_angle      22260.0         NaN\n",
       "UvAerosolLayerHeight_aerosol_height            22260.0         NaN\n",
       "UvAerosolLayerHeight_solar_zenith_angle        22260.0         NaN\n",
       "UvAerosolLayerHeight_solar_azimuth_angle       22260.0         NaN\n",
       "SulphurDioxide_sensor_zenith_angle              6142.0    0.077724\n",
       "SulphurDioxide_SO2_column_number_density_15km   6142.0    0.077724\n",
       "SulphurDioxide_solar_azimuth_angle              6142.0    0.077724"
      ]
     },
     "execution_count": 22,
     "metadata": {},
     "output_type": "execute_result"
    }
   ],
   "source": [
    "# Check for missing values in the dataset\n",
    "\n",
    "missing_values = test.isnull().sum().sort_values(ascending=False)\n",
    "missing_values_percentage = (test.isnull().sum()/data.isnull().count()).sort_values(ascending=False)\n",
    "\n",
    "# Create a dataframe for missing values analysis\n",
    "missing_data = pd.concat([missing_values, missing_values_percentage], axis=1, keys=['Total', 'Percentage'])\n",
    "\n",
    "# Display the dataframe\n",
    "missing_data.head(10)\n"
   ]
  },
  {
   "cell_type": "code",
   "execution_count": 23,
   "id": "c0e3b6ec",
   "metadata": {},
   "outputs": [
    {
     "name": "stderr",
     "output_type": "stream",
     "text": [
      "C:\\Users\\janbu\\AppData\\Local\\Temp\\ipykernel_3992\\1280650580.py:10: SettingWithCopyWarning: \n",
      "A value is trying to be set on a copy of a slice from a DataFrame.\n",
      "Try using .loc[row_indexer,col_indexer] = value instead\n",
      "\n",
      "See the caveats in the documentation: https://pandas.pydata.org/pandas-docs/stable/user_guide/indexing.html#returning-a-view-versus-a-copy\n",
      "  data[data_imputed.columns] = data_imputed\n"
     ]
    },
    {
     "data": {
      "text/plain": [
       "0"
      ]
     },
     "execution_count": 23,
     "metadata": {},
     "output_type": "execute_result"
    }
   ],
   "source": [
    "from sklearn.impute import SimpleImputer\n",
    "\n",
    "# Drop columns with more than 90% missing values\n",
    "data = test.dropna(thresh=len(data)*0.1, axis=1)\n",
    "\n",
    "# Impute remaining missing values with column median\n",
    "imputer = SimpleImputer(strategy='median')\n",
    "data_imputed = pd.DataFrame(imputer.fit_transform(data.select_dtypes(include=['float64', 'int64'])))\n",
    "data_imputed.columns = data.select_dtypes(include=['float64', 'int64']).columns\n",
    "data[data_imputed.columns] = data_imputed\n",
    "\n",
    "# Check if there are still any missing values\n",
    "data.isnull().sum().max()"
   ]
  },
  {
   "cell_type": "code",
   "execution_count": 24,
   "id": "36a129bc",
   "metadata": {},
   "outputs": [],
   "source": [
    "from sklearn.model_selection import train_test_split\n",
    "from sklearn.preprocessing import StandardScaler\n",
    "\n",
    "# Define the features (X) and the target variable (y)\n",
    "X = data.drop(['ID_LAT_LON_YEAR_WEEK'], axis=1)  # we also drop the 'ID_LAT_LON_YEAR_WEEK' column as it's an identifier, not a feature\n",
    "\n",
    "# Apply standard scaling to the features\n",
    "scaler = StandardScaler()\n",
    "X_test_scaled = scaler.fit_transform(X)\n",
    "\n"
   ]
  },
  {
   "cell_type": "code",
   "execution_count": 25,
   "id": "253cb5a7",
   "metadata": {},
   "outputs": [
    {
     "data": {
      "text/plain": [
       "array([84.65868627, 66.24140758, 75.38177698, ..., 84.03200792,\n",
       "       79.87248919, 96.08694501])"
      ]
     },
     "execution_count": 25,
     "metadata": {},
     "output_type": "execute_result"
    }
   ],
   "source": [
    "# Apply PCA with 20 components\n",
    "pca = PCA(n_components=20)\n",
    "X_test_pca = pca.fit_transform(X_test_scaled)\n",
    "\n",
    "\n",
    "# Make predictions on the test set\n",
    "y_pred = best_model.predict(X_test_pca)\n",
    "\n",
    "y_pred\n"
   ]
  },
  {
   "cell_type": "code",
   "execution_count": 28,
   "id": "9595aed0",
   "metadata": {},
   "outputs": [],
   "source": [
    "output_v2 = pd.DataFrame({\n",
    "    'ID_LAT_LON_YEAR_WEEK': data['ID_LAT_LON_YEAR_WEEK'],\n",
    "    'emission': y_pred\n",
    "})"
   ]
  },
  {
   "cell_type": "code",
   "execution_count": 29,
   "id": "2442562c",
   "metadata": {},
   "outputs": [],
   "source": [
    "output_v2.to_csv('predictions_v02.csv', index=False)"
   ]
  },
  {
   "cell_type": "markdown",
   "id": "c263f235",
   "metadata": {},
   "source": [
    "**RMSE:** 169.19"
   ]
  },
  {
   "cell_type": "markdown",
   "id": "372bdbb1",
   "metadata": {},
   "source": [
    "# New Model Building:"
   ]
  },
  {
   "cell_type": "markdown",
   "id": "168c4ed4",
   "metadata": {},
   "source": [
    "With a RMSE of 169.19 we can assume, that the model we were building is too complex and is following noise in the dataset. **Also, since our training evaluations were better, we might have fallen for overfitting.**"
   ]
  },
  {
   "cell_type": "markdown",
   "id": "1692fe21",
   "metadata": {},
   "source": [
    "Lets choose a more radical approach. To reduce complexity we drop columns with missing values. Also we will use stratified sampling to reduce the train-set size to 30%."
   ]
  },
  {
   "cell_type": "code",
   "execution_count": 30,
   "id": "940bd680",
   "metadata": {},
   "outputs": [
    {
     "name": "stdout",
     "output_type": "stream",
     "text": [
      "<class 'pandas.core.frame.DataFrame'>\n",
      "RangeIndex: 79023 entries, 0 to 79022\n",
      "Data columns (total 76 columns):\n",
      " #   Column                                                    Non-Null Count  Dtype  \n",
      "---  ------                                                    --------------  -----  \n",
      " 0   ID_LAT_LON_YEAR_WEEK                                      79023 non-null  object \n",
      " 1   latitude                                                  79023 non-null  float64\n",
      " 2   longitude                                                 79023 non-null  float64\n",
      " 3   year                                                      79023 non-null  int64  \n",
      " 4   week_no                                                   79023 non-null  int64  \n",
      " 5   SulphurDioxide_SO2_column_number_density                  64414 non-null  float64\n",
      " 6   SulphurDioxide_SO2_column_number_density_amf              64414 non-null  float64\n",
      " 7   SulphurDioxide_SO2_slant_column_number_density            64414 non-null  float64\n",
      " 8   SulphurDioxide_cloud_fraction                             64414 non-null  float64\n",
      " 9   SulphurDioxide_sensor_azimuth_angle                       64414 non-null  float64\n",
      " 10  SulphurDioxide_sensor_zenith_angle                        64414 non-null  float64\n",
      " 11  SulphurDioxide_solar_azimuth_angle                        64414 non-null  float64\n",
      " 12  SulphurDioxide_solar_zenith_angle                         64414 non-null  float64\n",
      " 13  SulphurDioxide_SO2_column_number_density_15km             64414 non-null  float64\n",
      " 14  CarbonMonoxide_CO_column_number_density                   76901 non-null  float64\n",
      " 15  CarbonMonoxide_H2O_column_number_density                  76901 non-null  float64\n",
      " 16  CarbonMonoxide_cloud_height                               76901 non-null  float64\n",
      " 17  CarbonMonoxide_sensor_altitude                            76901 non-null  float64\n",
      " 18  CarbonMonoxide_sensor_azimuth_angle                       76901 non-null  float64\n",
      " 19  CarbonMonoxide_sensor_zenith_angle                        76901 non-null  float64\n",
      " 20  CarbonMonoxide_solar_azimuth_angle                        76901 non-null  float64\n",
      " 21  CarbonMonoxide_solar_zenith_angle                         76901 non-null  float64\n",
      " 22  NitrogenDioxide_NO2_column_number_density                 60703 non-null  float64\n",
      " 23  NitrogenDioxide_tropospheric_NO2_column_number_density    60703 non-null  float64\n",
      " 24  NitrogenDioxide_stratospheric_NO2_column_number_density   60703 non-null  float64\n",
      " 25  NitrogenDioxide_NO2_slant_column_number_density           60703 non-null  float64\n",
      " 26  NitrogenDioxide_tropopause_pressure                       60703 non-null  float64\n",
      " 27  NitrogenDioxide_absorbing_aerosol_index                   60703 non-null  float64\n",
      " 28  NitrogenDioxide_cloud_fraction                            60703 non-null  float64\n",
      " 29  NitrogenDioxide_sensor_altitude                           60703 non-null  float64\n",
      " 30  NitrogenDioxide_sensor_azimuth_angle                      60703 non-null  float64\n",
      " 31  NitrogenDioxide_sensor_zenith_angle                       60703 non-null  float64\n",
      " 32  NitrogenDioxide_solar_azimuth_angle                       60703 non-null  float64\n",
      " 33  NitrogenDioxide_solar_zenith_angle                        60703 non-null  float64\n",
      " 34  Formaldehyde_tropospheric_HCHO_column_number_density      71746 non-null  float64\n",
      " 35  Formaldehyde_tropospheric_HCHO_column_number_density_amf  71746 non-null  float64\n",
      " 36  Formaldehyde_HCHO_slant_column_number_density             71746 non-null  float64\n",
      " 37  Formaldehyde_cloud_fraction                               71746 non-null  float64\n",
      " 38  Formaldehyde_solar_zenith_angle                           71746 non-null  float64\n",
      " 39  Formaldehyde_solar_azimuth_angle                          71746 non-null  float64\n",
      " 40  Formaldehyde_sensor_zenith_angle                          71746 non-null  float64\n",
      " 41  Formaldehyde_sensor_azimuth_angle                         71746 non-null  float64\n",
      " 42  UvAerosolIndex_absorbing_aerosol_index                    78484 non-null  float64\n",
      " 43  UvAerosolIndex_sensor_altitude                            78484 non-null  float64\n",
      " 44  UvAerosolIndex_sensor_azimuth_angle                       78484 non-null  float64\n",
      " 45  UvAerosolIndex_sensor_zenith_angle                        78484 non-null  float64\n",
      " 46  UvAerosolIndex_solar_azimuth_angle                        78484 non-null  float64\n",
      " 47  UvAerosolIndex_solar_zenith_angle                         78484 non-null  float64\n",
      " 48  Ozone_O3_column_number_density                            78475 non-null  float64\n",
      " 49  Ozone_O3_column_number_density_amf                        78475 non-null  float64\n",
      " 50  Ozone_O3_slant_column_number_density                      78475 non-null  float64\n",
      " 51  Ozone_O3_effective_temperature                            78475 non-null  float64\n",
      " 52  Ozone_cloud_fraction                                      78475 non-null  float64\n",
      " 53  Ozone_sensor_azimuth_angle                                78475 non-null  float64\n",
      " 54  Ozone_sensor_zenith_angle                                 78475 non-null  float64\n",
      " 55  Ozone_solar_azimuth_angle                                 78475 non-null  float64\n",
      " 56  Ozone_solar_zenith_angle                                  78475 non-null  float64\n",
      " 57  UvAerosolLayerHeight_aerosol_height                       439 non-null    float64\n",
      " 58  UvAerosolLayerHeight_aerosol_pressure                     439 non-null    float64\n",
      " 59  UvAerosolLayerHeight_aerosol_optical_depth                439 non-null    float64\n",
      " 60  UvAerosolLayerHeight_sensor_zenith_angle                  439 non-null    float64\n",
      " 61  UvAerosolLayerHeight_sensor_azimuth_angle                 439 non-null    float64\n",
      " 62  UvAerosolLayerHeight_solar_azimuth_angle                  439 non-null    float64\n",
      " 63  UvAerosolLayerHeight_solar_zenith_angle                   439 non-null    float64\n",
      " 64  Cloud_cloud_fraction                                      78539 non-null  float64\n",
      " 65  Cloud_cloud_top_pressure                                  78539 non-null  float64\n",
      " 66  Cloud_cloud_top_height                                    78539 non-null  float64\n",
      " 67  Cloud_cloud_base_pressure                                 78539 non-null  float64\n",
      " 68  Cloud_cloud_base_height                                   78539 non-null  float64\n",
      " 69  Cloud_cloud_optical_depth                                 78539 non-null  float64\n",
      " 70  Cloud_surface_albedo                                      78539 non-null  float64\n",
      " 71  Cloud_sensor_azimuth_angle                                78539 non-null  float64\n",
      " 72  Cloud_sensor_zenith_angle                                 78539 non-null  float64\n",
      " 73  Cloud_solar_azimuth_angle                                 78539 non-null  float64\n",
      " 74  Cloud_solar_zenith_angle                                  78539 non-null  float64\n",
      " 75  emission                                                  79023 non-null  float64\n",
      "dtypes: float64(73), int64(2), object(1)\n",
      "memory usage: 45.8+ MB\n"
     ]
    },
    {
     "data": {
      "text/plain": [
       "(None,\n",
       " count    79023.000000\n",
       " mean        81.940552\n",
       " std        144.299648\n",
       " min          0.000000\n",
       " 25%          9.797995\n",
       " 50%         45.593445\n",
       " 75%        109.549595\n",
       " max       3167.768000\n",
       " Name: emission, dtype: float64)"
      ]
     },
     "execution_count": 30,
     "metadata": {},
     "output_type": "execute_result"
    }
   ],
   "source": [
    "# Load the dataset\n",
    "df = pd.read_csv('train.csv')\n",
    "\n",
    "# Display the first few rows of the dataframe\n",
    "df.head()\n",
    "\n",
    "# Get a summary of the dataset\n",
    "summary = df.info()\n",
    "\n",
    "# Display the distribution of the target variable\n",
    "target_distribution = df['emission'].describe()\n",
    "\n",
    "summary, target_distribution\n"
   ]
  },
  {
   "cell_type": "code",
   "execution_count": 31,
   "id": "5fb4901a",
   "metadata": {},
   "outputs": [
    {
     "data": {
      "text/html": [
       "<div>\n",
       "<style scoped>\n",
       "    .dataframe tbody tr th:only-of-type {\n",
       "        vertical-align: middle;\n",
       "    }\n",
       "\n",
       "    .dataframe tbody tr th {\n",
       "        vertical-align: top;\n",
       "    }\n",
       "\n",
       "    .dataframe thead th {\n",
       "        text-align: right;\n",
       "    }\n",
       "</style>\n",
       "<table border=\"1\" class=\"dataframe\">\n",
       "  <thead>\n",
       "    <tr style=\"text-align: right;\">\n",
       "      <th></th>\n",
       "      <th>ID_LAT_LON_YEAR_WEEK</th>\n",
       "      <th>latitude</th>\n",
       "      <th>longitude</th>\n",
       "      <th>year</th>\n",
       "      <th>week_no</th>\n",
       "      <th>emission</th>\n",
       "    </tr>\n",
       "  </thead>\n",
       "  <tbody>\n",
       "    <tr>\n",
       "      <th>0</th>\n",
       "      <td>ID_-0.510_29.290_2019_00</td>\n",
       "      <td>-0.51</td>\n",
       "      <td>29.29</td>\n",
       "      <td>2019</td>\n",
       "      <td>0</td>\n",
       "      <td>3.750994</td>\n",
       "    </tr>\n",
       "    <tr>\n",
       "      <th>1</th>\n",
       "      <td>ID_-0.510_29.290_2019_01</td>\n",
       "      <td>-0.51</td>\n",
       "      <td>29.29</td>\n",
       "      <td>2019</td>\n",
       "      <td>1</td>\n",
       "      <td>4.025176</td>\n",
       "    </tr>\n",
       "    <tr>\n",
       "      <th>2</th>\n",
       "      <td>ID_-0.510_29.290_2019_02</td>\n",
       "      <td>-0.51</td>\n",
       "      <td>29.29</td>\n",
       "      <td>2019</td>\n",
       "      <td>2</td>\n",
       "      <td>4.231381</td>\n",
       "    </tr>\n",
       "    <tr>\n",
       "      <th>3</th>\n",
       "      <td>ID_-0.510_29.290_2019_03</td>\n",
       "      <td>-0.51</td>\n",
       "      <td>29.29</td>\n",
       "      <td>2019</td>\n",
       "      <td>3</td>\n",
       "      <td>4.305286</td>\n",
       "    </tr>\n",
       "    <tr>\n",
       "      <th>4</th>\n",
       "      <td>ID_-0.510_29.290_2019_04</td>\n",
       "      <td>-0.51</td>\n",
       "      <td>29.29</td>\n",
       "      <td>2019</td>\n",
       "      <td>4</td>\n",
       "      <td>4.347317</td>\n",
       "    </tr>\n",
       "  </tbody>\n",
       "</table>\n",
       "</div>"
      ],
      "text/plain": [
       "       ID_LAT_LON_YEAR_WEEK  latitude  longitude  year  week_no  emission\n",
       "0  ID_-0.510_29.290_2019_00     -0.51      29.29  2019        0  3.750994\n",
       "1  ID_-0.510_29.290_2019_01     -0.51      29.29  2019        1  4.025176\n",
       "2  ID_-0.510_29.290_2019_02     -0.51      29.29  2019        2  4.231381\n",
       "3  ID_-0.510_29.290_2019_03     -0.51      29.29  2019        3  4.305286\n",
       "4  ID_-0.510_29.290_2019_04     -0.51      29.29  2019        4  4.347317"
      ]
     },
     "execution_count": 31,
     "metadata": {},
     "output_type": "execute_result"
    }
   ],
   "source": [
    "# Drop columns with missing values\n",
    "df_cleaned = df.dropna(axis=1)\n",
    "\n",
    "# Display the first few rows of the cleaned dataframe\n",
    "df_cleaned.head()"
   ]
  },
  {
   "cell_type": "code",
   "execution_count": 32,
   "id": "642c1dee",
   "metadata": {},
   "outputs": [
    {
     "data": {
      "text/html": [
       "<div>\n",
       "<style scoped>\n",
       "    .dataframe tbody tr th:only-of-type {\n",
       "        vertical-align: middle;\n",
       "    }\n",
       "\n",
       "    .dataframe tbody tr th {\n",
       "        vertical-align: top;\n",
       "    }\n",
       "\n",
       "    .dataframe thead th {\n",
       "        text-align: right;\n",
       "    }\n",
       "</style>\n",
       "<table border=\"1\" class=\"dataframe\">\n",
       "  <thead>\n",
       "    <tr style=\"text-align: right;\">\n",
       "      <th></th>\n",
       "      <th>latitude</th>\n",
       "      <th>longitude</th>\n",
       "      <th>year</th>\n",
       "      <th>week_no</th>\n",
       "      <th>emission</th>\n",
       "    </tr>\n",
       "  </thead>\n",
       "  <tbody>\n",
       "    <tr>\n",
       "      <th>0</th>\n",
       "      <td>-0.51</td>\n",
       "      <td>29.29</td>\n",
       "      <td>2019</td>\n",
       "      <td>0</td>\n",
       "      <td>3.750994</td>\n",
       "    </tr>\n",
       "    <tr>\n",
       "      <th>1</th>\n",
       "      <td>-0.51</td>\n",
       "      <td>29.29</td>\n",
       "      <td>2019</td>\n",
       "      <td>1</td>\n",
       "      <td>4.025176</td>\n",
       "    </tr>\n",
       "    <tr>\n",
       "      <th>2</th>\n",
       "      <td>-0.51</td>\n",
       "      <td>29.29</td>\n",
       "      <td>2019</td>\n",
       "      <td>2</td>\n",
       "      <td>4.231381</td>\n",
       "    </tr>\n",
       "    <tr>\n",
       "      <th>3</th>\n",
       "      <td>-0.51</td>\n",
       "      <td>29.29</td>\n",
       "      <td>2019</td>\n",
       "      <td>3</td>\n",
       "      <td>4.305286</td>\n",
       "    </tr>\n",
       "    <tr>\n",
       "      <th>4</th>\n",
       "      <td>-0.51</td>\n",
       "      <td>29.29</td>\n",
       "      <td>2019</td>\n",
       "      <td>4</td>\n",
       "      <td>4.347317</td>\n",
       "    </tr>\n",
       "  </tbody>\n",
       "</table>\n",
       "</div>"
      ],
      "text/plain": [
       "   latitude  longitude  year  week_no  emission\n",
       "0     -0.51      29.29  2019        0  3.750994\n",
       "1     -0.51      29.29  2019        1  4.025176\n",
       "2     -0.51      29.29  2019        2  4.231381\n",
       "3     -0.51      29.29  2019        3  4.305286\n",
       "4     -0.51      29.29  2019        4  4.347317"
      ]
     },
     "execution_count": 32,
     "metadata": {},
     "output_type": "execute_result"
    }
   ],
   "source": [
    "# Drop the 'ID_LAT_LON_YEAR_WEEK' column\n",
    "df_cleaned = df_cleaned.drop(columns=['ID_LAT_LON_YEAR_WEEK'])\n",
    "\n",
    "# Display the first few rows of the updated dataframe\n",
    "df_cleaned.head()\n"
   ]
  },
  {
   "cell_type": "code",
   "execution_count": 33,
   "id": "03e5586e",
   "metadata": {},
   "outputs": [
    {
     "data": {
      "text/html": [
       "<div>\n",
       "<style scoped>\n",
       "    .dataframe tbody tr th:only-of-type {\n",
       "        vertical-align: middle;\n",
       "    }\n",
       "\n",
       "    .dataframe tbody tr th {\n",
       "        vertical-align: top;\n",
       "    }\n",
       "\n",
       "    .dataframe thead th {\n",
       "        text-align: right;\n",
       "    }\n",
       "</style>\n",
       "<table border=\"1\" class=\"dataframe\">\n",
       "  <thead>\n",
       "    <tr style=\"text-align: right;\">\n",
       "      <th></th>\n",
       "      <th>latitude</th>\n",
       "      <th>longitude</th>\n",
       "      <th>year</th>\n",
       "      <th>week_no</th>\n",
       "      <th>emission</th>\n",
       "    </tr>\n",
       "  </thead>\n",
       "  <tbody>\n",
       "    <tr>\n",
       "      <th>77965</th>\n",
       "      <td>-3.136</td>\n",
       "      <td>30.364</td>\n",
       "      <td>2020</td>\n",
       "      <td>2</td>\n",
       "      <td>15.268082</td>\n",
       "    </tr>\n",
       "    <tr>\n",
       "      <th>9399</th>\n",
       "      <td>-1.024</td>\n",
       "      <td>28.976</td>\n",
       "      <td>2019</td>\n",
       "      <td>18</td>\n",
       "      <td>36.836086</td>\n",
       "    </tr>\n",
       "    <tr>\n",
       "      <th>44468</th>\n",
       "      <td>-2.032</td>\n",
       "      <td>29.168</td>\n",
       "      <td>2021</td>\n",
       "      <td>1</td>\n",
       "      <td>14.416011</td>\n",
       "    </tr>\n",
       "    <tr>\n",
       "      <th>12676</th>\n",
       "      <td>-1.097</td>\n",
       "      <td>29.903</td>\n",
       "      <td>2021</td>\n",
       "      <td>9</td>\n",
       "      <td>40.742130</td>\n",
       "    </tr>\n",
       "    <tr>\n",
       "      <th>67126</th>\n",
       "      <td>-2.761</td>\n",
       "      <td>28.439</td>\n",
       "      <td>2019</td>\n",
       "      <td>28</td>\n",
       "      <td>4.363055</td>\n",
       "    </tr>\n",
       "  </tbody>\n",
       "</table>\n",
       "</div>"
      ],
      "text/plain": [
       "       latitude  longitude  year  week_no   emission\n",
       "77965    -3.136     30.364  2020        2  15.268082\n",
       "9399     -1.024     28.976  2019       18  36.836086\n",
       "44468    -2.032     29.168  2021        1  14.416011\n",
       "12676    -1.097     29.903  2021        9  40.742130\n",
       "67126    -2.761     28.439  2019       28   4.363055"
      ]
     },
     "execution_count": 33,
     "metadata": {},
     "output_type": "execute_result"
    }
   ],
   "source": [
    "from sklearn.model_selection import train_test_split\n",
    "\n",
    "# Create 'emission_cat' for stratified sampling\n",
    "df_cleaned['emission_cat'] = pd.qcut(df_cleaned['emission'], q=4)\n",
    "\n",
    "# Perform stratified sampling\n",
    "train_set, test_set = train_test_split(df_cleaned, test_size=0.7, random_state=42, stratify=df_cleaned['emission_cat'])\n",
    "\n",
    "# Drop 'emission_cat'\n",
    "train_set = train_set.drop(columns=['emission_cat'])\n",
    "test_set = test_set.drop(columns=['emission_cat'])\n",
    "\n",
    "# Display the first few rows of the training set\n",
    "train_set.head()\n"
   ]
  },
  {
   "cell_type": "markdown",
   "id": "8d11a2d3",
   "metadata": {},
   "source": [
    "We have successfully split the data into a training set and a test set using stratified sampling. The training set contains 30% of the original data, while the test set contains the remaining 70%."
   ]
  },
  {
   "cell_type": "code",
   "execution_count": 34,
   "id": "7de65b6d",
   "metadata": {},
   "outputs": [
    {
     "data": {
      "text/plain": [
       "141.11132477052618"
      ]
     },
     "execution_count": 34,
     "metadata": {},
     "output_type": "execute_result"
    }
   ],
   "source": [
    "from sklearn.linear_model import LinearRegression\n",
    "from sklearn.metrics import mean_squared_error\n",
    "import numpy as np\n",
    "\n",
    "# Separate predictors and labels\n",
    "X_train = train_set.drop('emission', axis=1)\n",
    "y_train = train_set['emission']\n",
    "\n",
    "# Train a Linear Regression model\n",
    "lin_reg = LinearRegression()\n",
    "lin_reg.fit(X_train, y_train)\n",
    "\n",
    "# Make predictions on the training set\n",
    "y_train_pred = lin_reg.predict(X_train)\n",
    "\n",
    "# Calculate RMSE on the training set\n",
    "lin_rmse = np.sqrt(mean_squared_error(y_train, y_train_pred))\n",
    "\n",
    "lin_rmse\n"
   ]
  },
  {
   "cell_type": "markdown",
   "id": "e81fc4a4",
   "metadata": {},
   "source": [
    "The Root Mean Squared Error (RMSE) on the training set is approximately 141.11. This means that, on average, our predictions are off by about 141 units of emission."
   ]
  },
  {
   "cell_type": "markdown",
   "id": "a61085df",
   "metadata": {},
   "source": [
    "Since we radically reduced the columns in our dataset, we can now use random forest including hyperparameter tuning. This was not possible before, due to limited computer-power and model complexity."
   ]
  },
  {
   "cell_type": "markdown",
   "id": "06917e04",
   "metadata": {},
   "source": [
    "Let's train a Random Forest Regressor and evaluate its performance on the training set. We will also perform hyperparameter tuning using cross-validation to optimize the performance of the model. This involves training and evaluating the model multiple times with different combinations of hyperparameters to find the combination that gives the best performanc"
   ]
  },
  {
   "cell_type": "code",
   "execution_count": 35,
   "id": "b51a635a",
   "metadata": {},
   "outputs": [
    {
     "data": {
      "text/plain": [
       "(6.27192539603107, {'max_depth': None, 'n_estimators': 100})"
      ]
     },
     "execution_count": 35,
     "metadata": {},
     "output_type": "execute_result"
    }
   ],
   "source": [
    "from sklearn.ensemble import RandomForestRegressor\n",
    "from sklearn.model_selection import GridSearchCV\n",
    "\n",
    "# Define the model\n",
    "forest_reg = RandomForestRegressor(random_state=42)\n",
    "\n",
    "# Define the grid of hyperparameters to search\n",
    "param_grid = {\n",
    "    'n_estimators': [50, 100, 200],\n",
    "    'max_depth': [None, 10, 20],\n",
    "}\n",
    "\n",
    "# Set up the grid search\n",
    "grid_search = GridSearchCV(forest_reg, param_grid, cv=3, scoring='neg_root_mean_squared_error', n_jobs=-1)\n",
    "\n",
    "# Perform the grid search\n",
    "grid_search.fit(X_train, y_train)\n",
    "\n",
    "# Get the best model\n",
    "best_forest_reg = grid_search.best_estimator_\n",
    "\n",
    "# Make predictions on the training set\n",
    "y_train_pred_best = best_forest_reg.predict(X_train)\n",
    "\n",
    "# Calculate RMSE on the training set\n",
    "best_forest_rmse = np.sqrt(mean_squared_error(y_train, y_train_pred_best))\n",
    "\n",
    "best_forest_rmse, grid_search.best_params_\n"
   ]
  },
  {
   "cell_type": "code",
   "execution_count": 36,
   "id": "194df8d9",
   "metadata": {},
   "outputs": [
    {
     "data": {
      "text/plain": [
       "18.65710821984049"
      ]
     },
     "execution_count": 36,
     "metadata": {},
     "output_type": "execute_result"
    }
   ],
   "source": [
    "# Separate predictors and labels in the test set\n",
    "X_test = test_set.drop('emission', axis=1)\n",
    "y_test = test_set['emission']\n",
    "\n",
    "# Make predictions on the test set\n",
    "y_test_pred = best_forest_reg.predict(X_test)\n",
    "\n",
    "# Calculate RMSE on the test set\n",
    "test_rmse = np.sqrt(mean_squared_error(y_test, y_test_pred))\n",
    "\n",
    "test_rmse\n"
   ]
  },
  {
   "cell_type": "markdown",
   "id": "3dc1d491",
   "metadata": {},
   "source": [
    "The Random Forest model's RMSE on the test set is approximately 18.66, which is significantly better than our last model. This suggests that our model should generalize well to new, unseen data."
   ]
  },
  {
   "cell_type": "code",
   "execution_count": 38,
   "id": "f887848a",
   "metadata": {},
   "outputs": [],
   "source": [
    "# Load the test data\n",
    "df_test = pd.read_csv('test.csv')\n",
    "\n",
    "# Prepare the test data\n",
    "X_test_final = df_test[['latitude', 'longitude', 'year', 'week_no']]\n",
    "\n",
    "# Make predictions on the test data\n",
    "y_test_final_pred = best_forest_reg.predict(X_test_final)\n",
    "\n",
    "# Add the predictions to the dataframe\n",
    "df_test['emission'] = y_test_final_pred\n",
    "\n",
    "# Save the 'ID_LAT_LON_YEAR_WEEK' and 'emission' columns to a CSV file\n",
    "df_test[['ID_LAT_LON_YEAR_WEEK', 'emission']].to_csv('predicted_emissions_simplified.csv', index=False)\n"
   ]
  },
  {
   "cell_type": "markdown",
   "id": "e19e4a3e",
   "metadata": {},
   "source": [
    "**RMSE:** 32.01 (RANK 1 on Leaderboard )"
   ]
  },
  {
   "cell_type": "code",
   "execution_count": null,
   "id": "15f2a156",
   "metadata": {},
   "outputs": [],
   "source": []
  }
 ],
 "metadata": {
  "kernelspec": {
   "display_name": "Python 3 (ipykernel)",
   "language": "python",
   "name": "python3"
  },
  "language_info": {
   "codemirror_mode": {
    "name": "ipython",
    "version": 3
   },
   "file_extension": ".py",
   "mimetype": "text/x-python",
   "name": "python",
   "nbconvert_exporter": "python",
   "pygments_lexer": "ipython3",
   "version": "3.11.3"
  }
 },
 "nbformat": 4,
 "nbformat_minor": 5
}
